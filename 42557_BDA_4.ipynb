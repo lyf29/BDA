{
 "cells": [
  {
   "cell_type": "markdown",
   "id": "1232b477-7c67-49cb-b499-a578a4c796ec",
   "metadata": {},
   "source": [
    "### **Problem Statement:**\n",
    "Develop a MapReduce program to find the grades of students.\r"
   ]
  },
  {
   "cell_type": "markdown",
   "id": "d62f761f-2308-4e31-bfc6-28e6879c7114",
   "metadata": {},
   "source": [
    "## ------------------------------------------------------------------------------------------------------------"
   ]
  },
  {
   "cell_type": "markdown",
   "id": "dfdf75d2-0493-4ed7-af7d-4d5322f95172",
   "metadata": {},
   "source": [
    "#### **Importing Data**"
   ]
  },
  {
   "cell_type": "code",
   "execution_count": 20,
   "id": "fb8e526f-2e89-4747-a536-cf5b5f2fe3fb",
   "metadata": {},
   "outputs": [
    {
     "name": "stdout",
     "output_type": "stream",
     "text": [
      "🎓 Original Dataset:\n",
      "\n",
      "StudentID\tName\t\tMarks\n",
      "101\t\tJohn\t\t85\n",
      "102\t\tAlice\t\t92\n",
      "103\t\tBob\t\t76\n",
      "104\t\tCarol\t\t58\n",
      "105\t\tDavid\t\t67\n",
      "106\t\tEmma\t\t89\n",
      "107\t\tRyan\t\t45\n",
      "108\t\tSophia\t\t95\n",
      "109\t\tMichael\t\t72\n",
      "110\t\tOlivia\t\t83\n",
      "111\t\tEthan\t\t61\n",
      "112\t\tAva\t\t78\n",
      "113\t\tJames\t\t88\n",
      "114\t\tMia\t\t54\n",
      "115\t\tDaniel\t\t69\n",
      "116\t\tHarper\t\t91\n",
      "117\t\tHenry\t\t73\n",
      "118\t\tElla\t\t66\n",
      "119\t\tLucas\t\t80\n",
      "120\t\tGrace\t\t59\n"
     ]
    }
   ],
   "source": [
    "import csv\n",
    "import pandas as pd\n",
    "\n",
    "with open('grade.csv', 'r') as file:\n",
    "    reader = csv.DictReader(file)\n",
    "    original_data = list(reader)\n",
    "\n",
    "print(\"🎓 Original Dataset:\\n\")\n",
    "print(\"StudentID\\tName\\t\\tMarks\")\n",
    "for row in original_data:\n",
    "    print(f\"{row['StudentID']}\\t\\t{row['Name']}\\t\\t{row['Marks']}\")"
   ]
  },
  {
   "cell_type": "markdown",
   "id": "6433a3f3-c1a5-4d2f-aa63-491b80723e53",
   "metadata": {},
   "source": [
    "## ------------------------------------------------------------------------------------------------------------"
   ]
  },
  {
   "cell_type": "markdown",
   "id": "9455c6a1-8a82-4355-9835-58a5fac61df2",
   "metadata": {},
   "source": [
    "#### **Mapper Function**"
   ]
  },
  {
   "cell_type": "code",
   "execution_count": 22,
   "id": "42a33b78-642a-4b68-9f96-157ea3fa1f08",
   "metadata": {},
   "outputs": [],
   "source": [
    "def mapper(data):\n",
    "    mapped_data = []\n",
    "    for row in data:\n",
    "        student_id = row['StudentID']\n",
    "        name = row['Name']\n",
    "        marks = int(row['Marks'])\n",
    "        mapped_data.append((student_id, name, marks))\n",
    "    return mapped_data"
   ]
  },
  {
   "cell_type": "markdown",
   "id": "84ed97a2-a46b-4ff7-b713-53d55344e9d4",
   "metadata": {},
   "source": [
    "## ------------------------------------------------------------------------------------------------------------"
   ]
  },
  {
   "cell_type": "markdown",
   "id": "e5db6f6d-4295-48e2-8f3d-98afb8907d6c",
   "metadata": {},
   "source": [
    "#### **Reducer function**"
   ]
  },
  {
   "cell_type": "code",
   "execution_count": 23,
   "id": "a619c7f0-f3de-41d8-8786-bd4194b43aca",
   "metadata": {},
   "outputs": [],
   "source": [
    "def reducer(mapped_data):\n",
    "    reduced_data = []\n",
    "    for student_id, name, marks in mapped_data:\n",
    "        if marks >= 90:\n",
    "            grade = 'A'\n",
    "        elif marks >= 80:\n",
    "            grade = 'B'\n",
    "        elif marks >= 70:\n",
    "            grade = 'C'\n",
    "        elif marks >= 60:\n",
    "            grade = 'D'\n",
    "        else:\n",
    "            grade = 'F'\n",
    "        reduced_data.append((student_id, name, marks, grade))\n",
    "    return reduced_data\n"
   ]
  },
  {
   "cell_type": "markdown",
   "id": "c37e919a-bd6e-45fb-9295-a08282a4cdc6",
   "metadata": {},
   "source": [
    "## ------------------------------------------------------------------------------------------------------------"
   ]
  },
  {
   "cell_type": "markdown",
   "id": "735908b8-5074-4d27-b046-23b6ce55fdcd",
   "metadata": {},
   "source": [
    "#### **Output the result**"
   ]
  },
  {
   "cell_type": "code",
   "execution_count": 24,
   "id": "995963ea-2540-4a6d-ac38-2978f3cb3b18",
   "metadata": {},
   "outputs": [
    {
     "name": "stdout",
     "output_type": "stream",
     "text": [
      "\n",
      "📊 Dataset with Grades:\n",
      "\n",
      "StudentID\tName\t\tMarks\tGrade\n",
      "101\t\tJohn\t\t85\tB\n",
      "102\t\tAlice\t\t92\tA\n",
      "103\t\tBob\t\t76\tC\n",
      "104\t\tCarol\t\t58\tF\n",
      "105\t\tDavid\t\t67\tD\n",
      "106\t\tEmma\t\t89\tB\n",
      "107\t\tRyan\t\t45\tF\n",
      "108\t\tSophia\t\t95\tA\n",
      "109\t\tMichael\t\t72\tC\n",
      "110\t\tOlivia\t\t83\tB\n",
      "111\t\tEthan\t\t61\tD\n",
      "112\t\tAva\t\t78\tC\n",
      "113\t\tJames\t\t88\tB\n",
      "114\t\tMia\t\t54\tF\n",
      "115\t\tDaniel\t\t69\tD\n",
      "116\t\tHarper\t\t91\tA\n",
      "117\t\tHenry\t\t73\tC\n",
      "118\t\tElla\t\t66\tD\n",
      "119\t\tLucas\t\t80\tB\n",
      "120\t\tGrace\t\t59\tF\n"
     ]
    }
   ],
   "source": [
    "mapped = mapper(original_data)\n",
    "reduced = reducer(mapped)\n",
    "\n",
    "print(\"\\n📊 Dataset with Grades:\\n\")\n",
    "print(\"StudentID\\tName\\t\\tMarks\\tGrade\")\n",
    "for student_id, name, marks, grade in reduced:\n",
    "    print(f\"{student_id}\\t\\t{name}\\t\\t{marks}\\t{grade}\")"
   ]
  },
  {
   "cell_type": "markdown",
   "id": "b0c12619-c92b-4740-8c62-98701ca607fb",
   "metadata": {},
   "source": [
    "## ------------------------------------------------------------------------------------------------------------"
   ]
  }
 ],
 "metadata": {
  "kernelspec": {
   "display_name": "Python 3 (ipykernel)",
   "language": "python",
   "name": "python3"
  },
  "language_info": {
   "codemirror_mode": {
    "name": "ipython",
    "version": 3
   },
   "file_extension": ".py",
   "mimetype": "text/x-python",
   "name": "python",
   "nbconvert_exporter": "python",
   "pygments_lexer": "ipython3",
   "version": "3.11.7"
  }
 },
 "nbformat": 4,
 "nbformat_minor": 5
}
